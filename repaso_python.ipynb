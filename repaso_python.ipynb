{
 "cells": [
  {
   "cell_type": "markdown",
   "metadata": {},
   "source": [
    "\n",
    "\"\"\"\n",
    "Ejercicios de reppaso en python, un poco de todo un mixturado\n",
    "\n",
    "Importar la libreria math\n",
    "Documentacion https://docs.python.org/3/library/math.html\n",
    "\n",
    "\"\"\""
   ]
  },
  {
   "cell_type": "markdown",
   "metadata": {},
   "source": [
    "VARIABLES Y CONDICIONALES Ejercicios"
   ]
  },
  {
   "cell_type": "markdown",
   "metadata": {},
   "source": [
    "1º Pedir los coeficientes de una ecuación de 2º grado, y muestre sus soluciones reales. Si no existen, debe indicarlo."
   ]
  },
  {
   "cell_type": "markdown",
   "metadata": {},
   "source": [
    "import math\n",
    "#Una ecuacion de 2 grado es aquella en la que X esta elevado a 2(al cuadrado) almenos una vez.\n",
    "#Ejmplo x^2 + 2x+ 8 = 0\n",
    "\n",
    "ax^2 + bx + c = 0  == Formula general\n",
    "a = termino cuadratico\n",
    "b = termino lineal\n",
    "c = termini independiente\n",
    "formula general = x1,2 = -b+- raiz cuadrada de b^2 -4ac/2a\n"
   ]
  },
  {
   "cell_type": "markdown",
   "metadata": {},
   "source": [
    "Pedir el radio de un círculo y calcular su área. A = PI * r^2."
   ]
  },
  {
   "cell_type": "code",
   "execution_count": 1,
   "metadata": {},
   "outputs": [
    {
     "name": "stdout",
     "output_type": "stream",
     "text": [
      "El area de te circulo es:  8494.864768000001\n"
     ]
    }
   ],
   "source": [
    "#Calculamos el area de un circulo usando p\n",
    "pi=  3.141592\n",
    "r = float(input(\"Introduce el radio del circulo para calcular su area\"))\n",
    "a = pi*(r**2)\n",
    "print(\"El area de te circulo es: \", a)"
   ]
  },
  {
   "cell_type": "markdown",
   "metadata": {},
   "source": [
    "Pedir el radio de una circunferencia y calcular su longitud."
   ]
  },
  {
   "cell_type": "code",
   "execution_count": 6,
   "metadata": {},
   "outputs": [
    {
     "name": "stdout",
     "output_type": "stream",
     "text": [
      "El radio de la circunferencia que has dado es:  27.132736\n"
     ]
    }
   ],
   "source": [
    "#Formmula para el calcula de longitud de circulo\n",
    "#l = 2 + 3.141592* r\n",
    "#Donde L es la longitud que queremos calcular,  \n",
    "#2 constante en la formula\n",
    "#r = al radio del circulo\n",
    "r = float(input(\"Introduce el radio de la circunferencia: \"))\n",
    "l = 2 + 3.141592* r\n",
    "print(\"El radio de la circunferencia que has dado es: \", l)"
   ]
  },
  {
   "cell_type": "markdown",
   "metadata": {},
   "source": [
    "Pedir dos números y decir si son iguales o no."
   ]
  },
  {
   "cell_type": "code",
   "execution_count": 5,
   "metadata": {},
   "outputs": [
    {
     "name": "stdout",
     "output_type": "stream",
     "text": [
      "Los numeros que has introducido:  45 y 75 son diferentes\n"
     ]
    }
   ],
   "source": [
    "\n",
    "def num_equal():\n",
    "    num1 = int(input(\"Introduce un numero: \"))\n",
    "    num2 = int(input(\"Introduce un numero: \"))\n",
    "    if num1 == num2:\n",
    "        print(\"Los numeros\", num1 ,\"y\", num2 ,\"son iguales\")\n",
    "    else:\n",
    "        print(\"Los numeros que has introducido: \",num1 , \"y\", num2, \"son diferentes\")\n",
    "num_equal()\n"
   ]
  },
  {
   "cell_type": "markdown",
   "metadata": {},
   "source": [
    "Pedir un número e indicar si es positivo o negativo."
   ]
  },
  {
   "cell_type": "code",
   "execution_count": 9,
   "metadata": {},
   "outputs": [
    {
     "name": "stdout",
     "output_type": "stream",
     "text": [
      "The number -545 is negative\n"
     ]
    }
   ],
   "source": [
    "\"\"\"\n",
    "def checkNumber():\n",
    "    checkNum = int(input(\"Introduce un numero para ver si es positivo o negativo: \"))\n",
    "    if checkNum >= 0:\n",
    "        print(\"The number\",checkNum, \"is positive\")\n",
    "    else:  \n",
    "        print(\"The number\",checkNum, \"is negative\")\n",
    "\n",
    "checkNumber()\n",
    "\"\"\"\n",
    "def checkNumber():\n",
    "    checkNum = int(input(\"Introduce un numero para ver si es positivo o negativo: \"))\n",
    "    if checkNum >= 0:\n",
    "        print(\"The number {} is positive\".format(checkNum))\n",
    "    else:  \n",
    "        print(\"The number {} is negative\".format(checkNum))\n",
    "        \n",
    "checkNumber()\n"
   ]
  },
  {
   "cell_type": "markdown",
   "metadata": {},
   "source": [
    "Pedir dos números y decir si uno es múltiplo del otro."
   ]
  },
  {
   "cell_type": "code",
   "execution_count": 15,
   "metadata": {},
   "outputs": [
    {
     "name": "stdout",
     "output_type": "stream",
     "text": [
      "El primer numero introducido 8 es multiplo de tu segundo numero 36 \n"
     ]
    }
   ],
   "source": [
    "def multCheck():\n",
    "    num1 = int(input(\"Introduce el primer numero para ver si es es multiplo de tu siguiente numero: \"))\n",
    "    num2 = int(input(\"Introduce el segundo numero para verificar si el primer numero es multiplo de este: \"))\n",
    "    if num1 // num2 == 0:\n",
    "        print(\"El primer numero introducido {} es multiplo de tu segundo numero {} \".format(num1, num2))\n",
    "    else:\n",
    "        print(\"El primer numero {} no es multiplo de tu segundo numero {}\".format(num1, num2))\n",
    "\n",
    "multCheck()"
   ]
  },
  {
   "cell_type": "markdown",
   "metadata": {},
   "source": [
    "Pedir dos números y decir cuál es el mayor o si son iguales."
   ]
  },
  {
   "cell_type": "code",
   "execution_count": 24,
   "metadata": {},
   "outputs": [
    {
     "name": "stdout",
     "output_type": "stream",
     "text": [
      "Has introducido el mismo numero (55), dos veces\n"
     ]
    }
   ],
   "source": [
    "def mayorOigual():\n",
    "    num1 = int(input(\"Introduce el primer numero para ver cual es mayor o si son iguales: \"))\n",
    "    num2 = int(input(\"Introduce el segundo numero : \"))\n",
    "    if num1 > num2:\n",
    "        print(\"El primer numero, que es {} es el mayor.\".format(num1))\n",
    "    elif num2 > num1:\n",
    "        print(\"El segundo numero {}, es el mayor.\".format(num2))\n",
    "    else:\n",
    "        print(\"Has introducido el mismo numero ({}), dos veces.\".format(num1))\n",
    "\n",
    "mayorOigual()\n",
    "    "
   ]
  },
  {
   "cell_type": "markdown",
   "metadata": {},
   "source": [
    "Pedir un número entre 0 y 99.999 y decir cuántas cifras tiene."
   ]
  },
  {
   "cell_type": "code",
   "execution_count": 33,
   "metadata": {},
   "outputs": [
    {
     "name": "stdout",
     "output_type": "stream",
     "text": [
      "El numero tiene una longitud de:  5\n"
     ]
    }
   ],
   "source": [
    "def digitCounter():\n",
    "    num =  (int(input(\"Introduce un numero entre el 0 y 99.999, y el programa contara las cifras:\")))\n",
    "    if num<0:\n",
    "        print(\"Error, numero negativo\")\n",
    "    elif 0 <= num <= 99999:\n",
    "        print(\"El numero tiene una longitud de: \", len(str(num)))#La funcion len no sirve para numeros, ints o floats, si no para cadenas , listas, tuplas etc, por eso añadimos el str\n",
    "    else:\n",
    "        print(\"Error numero demasiado largo\")\n",
    "\n",
    "digitCounter()"
   ]
  },
  {
   "cell_type": "markdown",
   "metadata": {},
   "source": [
    "Pedir un número entre 0 y 99.999 y mostrarlo con las cifras al revés."
   ]
  },
  {
   "cell_type": "code",
   "execution_count": 38,
   "metadata": {},
   "outputs": [
    {
     "name": "stdout",
     "output_type": "stream",
     "text": [
      "9854\n"
     ]
    }
   ],
   "source": [
    "def reversCounter():\n",
    "    num =  (int(input(\"Introduce un numero entre el 0 y 99.999, y lo mostrare invertido: \")))\n",
    "    #[::-1]pista\n",
    "    numReversed = int(str(num)[::-1])\n",
    "    print(numReversed)\n",
    "\n",
    "reversCounter()\n"
   ]
  },
  {
   "cell_type": "markdown",
   "metadata": {},
   "source": [
    "Pedir un número entre 0 y 99.999 y decir si es capicúa o no."
   ]
  },
  {
   "cell_type": "code",
   "execution_count": 44,
   "metadata": {},
   "outputs": [
    {
     "name": "stdout",
     "output_type": "stream",
     "text": [
      "El numero que has introducido 99999, invertido es : 99999\n",
      "El numero es capicua!\n"
     ]
    }
   ],
   "source": [
    "\n",
    "def reversCounter():\n",
    "    num =  (int(input(\"Introduce un numero entre el 0 y 99.999, y lo mostrare invertido: \")))\n",
    "    #[::-1]pista\n",
    "    numReversed = int(str(num)[::-1])\n",
    "    print(\"El numero que has introducido {}, invertido es : {}\".format(num, numReversed))\n",
    "    if num == numReversed:\n",
    "        print(\"El numero es capicua!\")\n",
    "    else:\n",
    "        print(\"El numero no es capicua!\")\n",
    "\n",
    "\n",
    "reversCounter()"
   ]
  },
  {
   "cell_type": "markdown",
   "metadata": {},
   "source": [
    "Pedir una nota de 0 a 10 y mostrarla en la forma: Insuficiente, Suficiente, Bien, Notable y Sobresaliente."
   ]
  },
  {
   "cell_type": "code",
   "execution_count": 60,
   "metadata": {},
   "outputs": [
    {
     "name": "stdout",
     "output_type": "stream",
     "text": [
      "El valor de tu nota: 555, es erroneo: \n"
     ]
    }
   ],
   "source": [
    "def testClasifier():\n",
    "    nota =  (int(input(\"Introduce tu nota: \")))\n",
    "    if 0 <= nota and nota <=10:\n",
    "        if nota < 5:\n",
    "            print(\"Tu nota de: {}, es un insuficiente.\".format(nota))\n",
    "        elif 5 <= nota and nota <=6:\n",
    "            print(\"Tu nota de: {}, es un Suficiente.\".format(nota))\n",
    "        elif 6 <= nota and nota <=7:\n",
    "            print(\"Tu nota de: {}, es un Bien.\".format(nota))\n",
    "        elif 7 <= nota and nota <=9:\n",
    "            print(\"Tu nota de: {}, es un Notable.\".format(nota))\n",
    "        else:\n",
    "            print(\"Tu nota de: {}, es un Sobresaliente.\".format(nota))\n",
    "    else:\n",
    "        print(\"El valor de tu nota: {}, es erroneo: \".format(nota))\n",
    "\n",
    "testClasifier()"
   ]
  },
  {
   "cell_type": "markdown",
   "metadata": {},
   "source": [
    "Crear una calculadora de minutos, dado un tiempo en horas y minutos calcular el tiempo en minutos."
   ]
  },
  {
   "cell_type": "code",
   "execution_count": 3,
   "metadata": {},
   "outputs": [
    {
     "name": "stdout",
     "output_type": "stream",
     "text": [
      "1:20:00 son 80 minutos.\n"
     ]
    }
   ],
   "source": [
    "def convertir_horas_a_minutos(hora):\n",
    "    # Dividir la cadena de la hora en horas, minutos y segundos\n",
    "    horas, minutos, segundos = map(int, hora.split(':'))\n",
    "\n",
    "    # Calcular el total de minutos\n",
    "    total_minutos = (horas * 60) + minutos\n",
    "\n",
    "    return total_minutos\n",
    "\n",
    "# Ejemplo de uso\n",
    "hora_dada = \"1:20:00\"\n",
    "minutos_convertidos = convertir_horas_a_minutos(hora_dada)\n",
    "\n",
    "print(f\"{hora_dada} son {minutos_convertidos} minutos.\")\n"
   ]
  }
 ],
 "metadata": {
  "kernelspec": {
   "display_name": "Python 3",
   "language": "python",
   "name": "python3"
  },
  "language_info": {
   "codemirror_mode": {
    "name": "ipython",
    "version": 3
   },
   "file_extension": ".py",
   "mimetype": "text/x-python",
   "name": "python",
   "nbconvert_exporter": "python",
   "pygments_lexer": "ipython3",
   "version": "3.11.4"
  }
 },
 "nbformat": 4,
 "nbformat_minor": 2
}
